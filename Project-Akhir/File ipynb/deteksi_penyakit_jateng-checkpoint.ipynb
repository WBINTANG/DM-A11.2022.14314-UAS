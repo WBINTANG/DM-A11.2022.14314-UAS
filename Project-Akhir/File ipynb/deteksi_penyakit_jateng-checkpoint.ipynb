{
 "cells": [
  {
   "cell_type": "markdown",
   "metadata": {},
   "source": [
    "# Deteksi Dini Penyakit Menurut Kabupaten/Kota di Provinsi Jawa Tengah\n",
    "\n",
    "### Judul\n",
    "Deteksi Dini Penyakit Menurut Kabupaten/Kota di Provinsi Jawa Tengah Menggunakan Eksperimen Data Mining.\n",
    "\n",
    "### Identitas\n",
    "- **Nama**: [Bintang Widiatmaja]\n",
    "- **NIM**: [A11.2022.14314]\n"
   ]
  },
  {
   "cell_type": "markdown",
   "metadata": {},
   "source": [
    "### 2. Ringkasan dan Permasalahan Project + Tujuan yang Akan Dicapai + Model / Alur Penyelesaian\n",
    "\n",
    "**Ringkasan**:\n",
    "Proyek ini bertujuan untuk menganalisis jumlah kasus penyakit yang terjadi di berbagai kabupaten/kota di Provinsi Jawa Tengah. Data yang digunakan terdiri dari jumlah kasus berdasarkan kategori penyakit tertentu untuk setiap kabupaten/kota. Dengan data ini, kita dapat melihat distribusi penyakit di berbagai wilayah.\n",
    "\n",
    "**Permasalahan**:\n",
    "- Tidak adanya sistem untuk mengidentifikasi distribusi penyakit secara visual dan analitik untuk wilayah Jawa Tengah.\n",
    "- Sulitnya melihat pola distribusi penyakit di masing-masing kabupaten/kota.\n",
    "\n",
    "**Tujuan**:\n",
    "- Menganalisis dan memvisualisasikan data jumlah kasus penyakit di Jawa Tengah.\n",
    "- Menyediakan alat analitik untuk memahami pola penyakit menurut wilayah.\n",
    "\n",
    "**Alur Penyelesaian**:\n",
    "1. **Data Collection**: Mengumpulkan data jumlah kasus penyakit per kabupaten/kota.\n",
    "2. **Data Preprocessing**: Membersihkan data dan memastikan tidak ada nilai yang hilang atau anomali.\n",
    "3. **Exploratory Data Analysis (EDA)**: Menganalisis data menggunakan visualisasi untuk memahami pola distribusi penyakit.\n",
    "4. **Modeling**: Menggunakan teknik statistik atau machine learning untuk menganalisis lebih lanjut hubungan antara kabupaten/kota dan jumlah kasus.\n",
    "5. **Result Evaluation**: Mengevaluasi hasil model dan menarik kesimpulan dari analisis.\n",
    "\n",
    "Bagan alur:\n",
    "\n",
    "Data Collection -> Data Preprocessing -> EDA -> Modeling -> Result Evaluation"
   ]
  },
  {
   "cell_type": "markdown",
   "metadata": {},
   "source": [
    "### 3. Penjelasan Dataset, EDA, dan Proses Features Dataset\n",
    "\n",
    "**Dataset**:\n",
    "Dataset yang digunakan adalah data jumlah kasus penyakit menurut kabupaten/kota di Provinsi Jawa Tengah. Dataset ini berisi informasi tentang jumlah kasus yang tercatat di berbagai wilayah, yang akan dianalisis lebih lanjut.\n",
    "\n",
    "**Exploratory Data Analysis (EDA)**:\n",
    "EDA dilakukan untuk memeriksa distribusi jumlah kasus penyakit di setiap kabupaten/kota. Analisis ini dilakukan dengan menggunakan visualisasi seperti grafik histogram dan boxplot untuk melihat pola distribusi data.\n",
    "\n",
    "**Proses Features Dataset**:\n",
    "Dataset sudah diproses dengan menghapus kolom yang tidak relevan, memeriksa apakah ada nilai yang hilang atau duplikat, dan memastikan bahwa data yang digunakan adalah bersih dan siap untuk dianalisis."
   ]
  },
  {
   "cell_type": "markdown",
   "metadata": {},
   "source": [
    "### 4. Proses Learning / Modeling\n",
    "\n",
    "Untuk proyek ini, tidak ada model machine learning yang kompleks digunakan. Sebaliknya, analisis lebih terfokus pada **Exploratory Data Analysis (EDA)** menggunakan visualisasi yang membantu dalam memahami distribusi jumlah kasus penyakit.\n",
    "\n",
    "Namun, jika ingin menggunakan model analitik yang lebih lanjut, kita bisa menerapkan teknik statistik untuk menemukan pola distribusi berdasarkan kabupaten/kota."
   ]
  },
  {
   "cell_type": "markdown",
   "metadata": {},
   "source": [
    "### 5. Performa Model\n",
    "\n",
    "Karena model yang digunakan dalam proyek ini lebih mengarah ke analisis data eksploratif (EDA), kita lebih fokus pada hasil visualisasi data dan bukan pada performa model machine learning. Evaluasi dilakukan dengan melihat bagaimana distribusi jumlah kasus penyakit di berbagai kabupaten/kota dan apakah ada pola tertentu yang dapat diamati."
   ]
  },
  {
   "cell_type": "markdown",
   "metadata": {},
   "source": [
    "### 6. Diskusi Hasil dan Kesimpulan\n",
    "\n",
    "**Diskusi Hasil**:\n",
    "Setelah visualisasi, kita bisa membahas hasil analisis dan mengidentifikasi apakah ada wilayah yang mengalami lonjakan kasus tertentu. Analisis lebih lanjut dapat dilakukan untuk melihat penyebab atau faktor-faktor yang memengaruhi distribusi penyakit ini.\n",
    "\n",
    "**Kesimpulan**:\n",
    "Melalui analisis ini, kita dapat memahami distribusi jumlah kasus penyakit di Provinsi Jawa Tengah. Data ini dapat digunakan oleh pihak terkait untuk mengambil langkah-langkah pencegahan atau intervensi yang lebih tepat sasaran."
   ]
  },
  {
   "cell_type": "code",
   "execution_count": 1,
   "metadata": {},
   "outputs": [],
   "source": [
    "# 1. Import Libraries\n",
    "import pandas as pd\n",
    "import seaborn as sns\n",
    "import matplotlib.pyplot as plt\n",
    "\n",
    "# 2. Memuat Dataset\n",
    "dataset = pd.read_csv('C:/Users/user/Documents/Tugas Kuliah/SEMESTER 5/DataMining/jawa_tengah_disease_cases.csv')\n",
    "\n",
    "# 3. Menghapus Spasi Ekstra di Nama Kolom (jika ada)\n",
    "dataset.columns = dataset.columns.str.strip()\n",
    "\n",
    "# 4. Menampilkan Nama Kolom dan 5 Data Pertama untuk Verifikasi\n",
    "print('Nama Kolom:', dataset.columns)\n",
    "print(dataset.head())\n",
    "\n",
    "# 5. Memeriksa apakah Kolom 'Jumlah Kasus' ada\n",
    "if 'Jumlah Kasus' in dataset.columns:\n",
    "    # 6. Visualisasi Distribusi Jumlah Kasus\n",
    "    sns.histplot(dataset['Jumlah Kasus'], kde=True)\n",
    "    plt.title('Distribusi Jumlah Kasus Penyakit')\n",
    "    plt.xlabel('Jumlah Kasus')\n",
    "    plt.ylabel('Frekuensi')\n",
    "    plt.show()\n",
    "else:\n",
    "    print(\"Kolom 'Jumlah Kasus' tidak ditemukan!\")\n",
    "\n",
    "# 7. Menyimpan Hasil Analisis ke File Excel\n",
    "# Misalnya, hasil prediksi atau analisis yang ingin disimpan\n",
    "hasil_prediksi = dataset  # Gantilah dengan hasil analisis atau prediksi kamu\n",
    "\n",
    "# Menyimpan ke file Excel\n",
    "hasil_prediksi.to_excel('hasil_prediksi_jateng.xlsx', index=False)\n",
    "print('Hasil disimpan dalam file \"hasil_prediksi_jateng.xlsx\"')"
   ]
  }
 ],
 "metadata": {
  "kernelspec": {
   "display_name": "Python 3",
   "language": "python",
   "name": "python3"
  },
  "language_info": {
   "codemirror_mode": {
    "name": "ipython",
    "version": 3
   },
   "file_extension": ".py",
   "mimetype": "text/x-python",
   "name": "python",
   "nbconvert_exporter": "python",
   "version": "3.8.8"
  }
 },
 "nbformat": 4,
 "nbformat_minor": 5
}
